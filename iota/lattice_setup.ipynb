{
 "cells": [
  {
   "cell_type": "code",
   "execution_count": 1,
   "id": "d0062499-6721-4bcd-b57e-423d1cbd9950",
   "metadata": {},
   "outputs": [],
   "source": [
    "from pykern import pkio\n",
    "from sirepo.template.elegant import ElegantMadxConverter\n",
    "from rsbeams.rsdata.SDDS import readSDDS\n",
    "from rsbeams.rsstats import kinematic\n",
    "from scipy import constants\n",
    "import sirepo.lib\n",
    "import sirepo.template\n",
    "import numpy as np\n",
    "import lattices"
   ]
  },
  {
   "cell_type": "markdown",
   "id": "9c90b8e5-20f7-4442-b3e6-f582a35f030e",
   "metadata": {},
   "source": [
    "# Start\n",
    "Use the MAD-X version of the IOTA lattice as processed by Sirepo"
   ]
  },
  {
   "cell_type": "code",
   "execution_count": 2,
   "id": "06daa2f4-c7d7-4e9e-8031-5939aaafd5da",
   "metadata": {},
   "outputs": [],
   "source": [
    "base_file = 'in.madx'"
   ]
  },
  {
   "cell_type": "markdown",
   "id": "e5551dd3-0083-4aee-9e98-e16903f5b13d",
   "metadata": {},
   "source": [
    "## MAD-X"
   ]
  },
  {
   "cell_type": "code",
   "execution_count": 3,
   "id": "c9a88d70-5683-4ed7-88f5-7087fea5ec78",
   "metadata": {},
   "outputs": [],
   "source": [
    "model_madx = sirepo.lib.Importer('madx').parse_file(base_file)"
   ]
  },
  {
   "cell_type": "markdown",
   "id": "6c1edfee-4380-44ef-8c27-12790018408a",
   "metadata": {},
   "source": [
    "Two changes are needed for reasonable tracking:\n",
    "- Use sufficient number of kicks per element. The default of 1 will lead to incorrect results. We use 25 though the required number is probably lower.\n",
    "- Increase the aperature. MAD-X uses rather small aperature by default when determining when particles are lost."
   ]
  },
  {
   "cell_type": "code",
   "execution_count": 4,
   "id": "1a49b991-f091-40ef-ba2e-6f0c53ff6f35",
   "metadata": {},
   "outputs": [],
   "source": [
    "for cmd in model_madx.models.commands:\n",
    "    if cmd._type == 'ptc_create_layout':\n",
    "        cmd.nst = 25\n",
    "        cmd.method = 4\n",
    "    elif cmd._type == 'ptc_track':\n",
    "        cmd.maxaper = \"{1, 1, 1, 1, 5, 1}\""
   ]
  },
  {
   "cell_type": "markdown",
   "id": "2bdfd5df-436f-4fb5-b00a-364bf1e417ad",
   "metadata": {},
   "source": [
    "For comparison against elegant we need to remove the unsupported nllens element.\n",
    "Since they are zero length we can just make them markers. The `write_files` operation will not write attributes that are not shared by the MARKER and NLLENS types so there is no need to remove them ourselves. "
   ]
  },
  {
   "cell_type": "code",
   "execution_count": 5,
   "id": "31a497a4-b8fe-47e7-b2b5-0e1d76400825",
   "metadata": {},
   "outputs": [],
   "source": [
    "for ele in model_madx.models.elements:\n",
    "    if ele.type == 'NLLENS':\n",
    "        ele.type = 'MARKER'"
   ]
  },
  {
   "cell_type": "code",
   "execution_count": 6,
   "id": "c780dfce-0b34-47fb-821f-37151854d09b",
   "metadata": {},
   "outputs": [
    {
     "data": {
      "text/plain": [
       "{}"
      ]
     },
     "execution_count": 6,
     "metadata": {},
     "output_type": "execute_result"
    }
   ],
   "source": [
    "model_madx.write_files('madx/')"
   ]
  },
  {
   "cell_type": "markdown",
   "id": "36539e39-d01b-497c-82ed-e23755c5f158",
   "metadata": {},
   "source": [
    "## Convert distribution from elegant to MAD-X\n",
    "Using a distribution created from elegant's matching routine in the MAD-X and impact-x simulations"
   ]
  },
  {
   "cell_type": "code",
   "execution_count": 39,
   "id": "337c0988-94c3-41ad-84a1-de48813954b0",
   "metadata": {},
   "outputs": [
    {
     "name": "stdout",
     "output_type": "stream",
     "text": [
      "\n",
      "        Based on an input energy of 150000000.0 eV\n",
      "        For a particle with mass: 510998.94999999995 eV/c^2\n",
      "        \n",
      "        velocity: 299790718.3997369 m/s\n",
      "        beta: 0.9999941973181222\n",
      "        gamma: 293.54267753387757\n",
      "        momentum: 149999129.59771833 eV/c\n",
      "        beta * gamma: 293.54097419910227\n",
      "        energy: 150000000.0 eV\n",
      "        kinetic energy: 149489001.05 eV\n",
      "        Brho: 0.5003432394477326 T*m\n",
      "        \n"
     ]
    }
   ],
   "source": [
    "total_energy = model_madx.models.commands[0].energy * 1e9\n",
    "reference = kinematic.Converter(energy=total_energy)()"
   ]
  },
  {
   "cell_type": "code",
   "execution_count": 45,
   "id": "11d612c4-58d5-41fa-88b8-6e0c7936cbfd",
   "metadata": {},
   "outputs": [],
   "source": [
    "elegant_distribution_file = readSDDS('bunched_beam.bunch.sdds')\n",
    "elegant_distribution_file.read()\n",
    "elegant_distribution = elegant_distribution_file.columns.squeeze()"
   ]
  },
  {
   "cell_type": "code",
   "execution_count": 46,
   "id": "97e55bee-4a0b-40ba-aebe-9c34275ecd58",
   "metadata": {},
   "outputs": [],
   "source": [
    "ptc_start_str = 'ptc_start, x={x}, px={px}, y={y}, py={py}, t={t}, pt={pt};'"
   ]
  },
  {
   "cell_type": "code",
   "execution_count": 47,
   "id": "2a828bed-f09b-42da-9f2c-4f82f5e7c8e5",
   "metadata": {},
   "outputs": [],
   "source": [
    "x_madx = elegant_distribution['x']\n",
    "y_madx = elegant_distribution['y']\n",
    "\n",
    "px_madx = elegant_distribution['xp'] * elegant_distribution['p'] / reference['betagamma']\n",
    "py_madx = elegant_distribution['yp'] * elegant_distribution['p'] / reference['betagamma']\n",
    "\n",
    "t_madx = elegant_distribution['t'] * -1 * constants.c\n",
    "pt_madx = (kinematic.Converter(\n",
    "    betagamma=elegant_distribution['p']\n",
    ")(silent=True)['energy'] - total_energy) / reference['momentum']"
   ]
  },
  {
   "cell_type": "code",
   "execution_count": 48,
   "id": "248912c2-627c-4e85-ace3-32edf8ea8be8",
   "metadata": {},
   "outputs": [],
   "source": [
    "with open('ptc_particles.madx', 'w') as ff:\n",
    "    for x, y, px, py, t, pt in zip(x_madx, y_madx, px_madx, py_madx, t_madx, pt_madx):\n",
    "        ff.write(ptc_start_str.format(x=x, y=y, px=px, py=py, t=t, pt=pt))"
   ]
  },
  {
   "cell_type": "code",
   "execution_count": 49,
   "id": "527ecc0c-2bfc-475a-be9c-1fb60e3d8d2b",
   "metadata": {},
   "outputs": [],
   "source": [
    "! cp ptc_particles.madx madx/"
   ]
  },
  {
   "cell_type": "markdown",
   "id": "82eaa4f9-84bd-4cdc-87ab-6a96f1038434",
   "metadata": {
    "tags": [],
    "toc-hr-collapsed": true
   },
   "source": [
    "## elegant"
   ]
  },
  {
   "cell_type": "markdown",
   "id": "c0dbab7d-dccd-48be-ae15-949b4e4b5e66",
   "metadata": {},
   "source": [
    "### lattice"
   ]
  },
  {
   "cell_type": "code",
   "execution_count": 28,
   "id": "1b900acd-ebff-4c20-8002-572573c5ec01",
   "metadata": {},
   "outputs": [],
   "source": [
    "# read in newly created madx lattice that doesn't have nllens elements\n",
    "path_for_elegant = 'madx/in.madx'"
   ]
  },
  {
   "cell_type": "code",
   "execution_count": 29,
   "id": "b50bff87-749e-4407-a6f8-77da53f5775b",
   "metadata": {},
   "outputs": [
    {
     "name": "stderr",
     "output_type": "stream",
     "text": [
      "/home/vagrant/.pyenv/versions/py3/lib/python3.9/site-packages/sirepo/template/madx_converter.py:142:_copy_elements Unhandled element type: DIPEDGE\n",
      "/home/vagrant/.pyenv/versions/py3/lib/python3.9/site-packages/sirepo/template/madx_converter.py:142:_copy_elements Unhandled element type: DIPEDGE\n",
      "/home/vagrant/.pyenv/versions/py3/lib/python3.9/site-packages/sirepo/template/madx_converter.py:142:_copy_elements Unhandled element type: DIPEDGE\n",
      "/home/vagrant/.pyenv/versions/py3/lib/python3.9/site-packages/sirepo/template/madx_converter.py:142:_copy_elements Unhandled element type: DIPEDGE\n",
      "/home/vagrant/.pyenv/versions/py3/lib/python3.9/site-packages/sirepo/template/madx_converter.py:142:_copy_elements Unhandled element type: DIPEDGE\n",
      "/home/vagrant/.pyenv/versions/py3/lib/python3.9/site-packages/sirepo/template/madx_converter.py:142:_copy_elements Unhandled element type: DIPEDGE\n",
      "/home/vagrant/.pyenv/versions/py3/lib/python3.9/site-packages/sirepo/template/madx_converter.py:142:_copy_elements Unhandled element type: DIPEDGE\n",
      "/home/vagrant/.pyenv/versions/py3/lib/python3.9/site-packages/sirepo/template/madx_converter.py:142:_copy_elements Unhandled element type: DIPEDGE\n",
      "/home/vagrant/.pyenv/versions/py3/lib/python3.9/site-packages/sirepo/template/madx_converter.py:142:_copy_elements Unhandled element type: DIPEDGE\n",
      "/home/vagrant/.pyenv/versions/py3/lib/python3.9/site-packages/sirepo/template/madx_converter.py:142:_copy_elements Unhandled element type: DIPEDGE\n",
      "/home/vagrant/.pyenv/versions/py3/lib/python3.9/site-packages/sirepo/template/madx_converter.py:142:_copy_elements Unhandled element type: DIPEDGE\n",
      "/home/vagrant/.pyenv/versions/py3/lib/python3.9/site-packages/sirepo/template/madx_converter.py:142:_copy_elements Unhandled element type: DIPEDGE\n",
      "/home/vagrant/.pyenv/versions/py3/lib/python3.9/site-packages/sirepo/template/madx_converter.py:142:_copy_elements Unhandled element type: DIPEDGE\n",
      "/home/vagrant/.pyenv/versions/py3/lib/python3.9/site-packages/sirepo/template/madx_converter.py:142:_copy_elements Unhandled element type: DIPEDGE\n",
      "/home/vagrant/.pyenv/versions/py3/lib/python3.9/site-packages/sirepo/template/madx_converter.py:142:_copy_elements Unhandled element type: DIPEDGE\n",
      "/home/vagrant/.pyenv/versions/py3/lib/python3.9/site-packages/sirepo/template/madx_converter.py:142:_copy_elements Unhandled element type: DIPEDGE\n"
     ]
    }
   ],
   "source": [
    "sim_type_converter = dict(\n",
    "    elegant=ElegantMadxConverter,\n",
    "    # opal=OpalMadxConverter,\n",
    ")\n",
    "sim_type_file = dict(\n",
    "    elegant='elegant.ele',\n",
    "    # opal='opal.in',\n",
    ")\n",
    "\n",
    "sim_type = 'elegant'\n",
    "model_elegant = sirepo.lib.SimData(\n",
    "    sim_type_converter[sim_type](qcall=None).from_madx(\n",
    "        sirepo.lib.Importer('madx').parse_file(path_for_elegant),\n",
    "    ),\n",
    "    pkio.py_path(sim_type_file[sim_type]),\n",
    "    sirepo.template.import_module(sim_type).LibAdapter(),\n",
    ")"
   ]
  },
  {
   "cell_type": "markdown",
   "id": "0cb77d43-fd1b-4138-987f-b80b53805fb7",
   "metadata": {},
   "source": [
    "### Edit Lattice and Commands"
   ]
  },
  {
   "cell_type": "markdown",
   "id": "68ca4ac8-3850-48cb-af6b-77f60a427168",
   "metadata": {},
   "source": [
    "For elegant it is probably better to default to converting dipoles to SBEND elements. Using CSBEND elements for a ring may be necessary but if you try to run the single-turn tracking in IOTA with default settings for CSBEND the result will be incorrect without increasing the number of kicks."
   ]
  },
  {
   "cell_type": "code",
   "execution_count": 30,
   "id": "22fa4793-4808-4d7d-a71e-7eb9a2939713",
   "metadata": {},
   "outputs": [],
   "source": [
    "for ele in model_elegant.models.elements:\n",
    "    if ele.type == 'CSBEND':\n",
    "        ele.type = 'SBEN'"
   ]
  },
  {
   "cell_type": "code",
   "execution_count": 31,
   "id": "a2fed69e-dd9e-44de-8047-8e778bb388eb",
   "metadata": {},
   "outputs": [],
   "source": [
    "for cmd in model_elegant.models.commands:\n",
    "    if cmd._type == 'bunched_beam':\n",
    "        cmd._type = 'sdds_beam'\n",
    "        cmd.input = \"bunched_beam.bunch.sdds\"\n",
    "        cmd.center_transversely = 1\n",
    "        cmd.one_random_bunch = 0\n",
    "    if cmd._type == 'run_setup':\n",
    "        cmd.sigma = 'run_setup.sigma.sdds'\n",
    "        cmd.parameters = ''\n",
    "        cmd.centroid = ''\n",
    "        cmd.output = 'run_setup.output.sdds'\n",
    "        cmd.p_central_mev = reference['momentum'] * 1e-6\n",
    "    if cmd._type == 'twiss_output':\n",
    "        cmd.filename = 'twiss_output.filename.sdds'\n",
    "        cmd.matched = 1"
   ]
  },
  {
   "cell_type": "markdown",
   "id": "f54a3fac-7108-4aed-9f7a-1038f211ff46",
   "metadata": {},
   "source": [
    "MAD-X stores dipole edge properties in a separate element while elegant makes them properties of the dipole element"
   ]
  },
  {
   "cell_type": "code",
   "execution_count": 32,
   "id": "488b7ef9-b10a-4111-b012-eb6c990cd837",
   "metadata": {},
   "outputs": [],
   "source": [
    "madx_lattice = lattices.Lattice(model_madx)\n",
    "madx_iota = [ele for ele in madx_lattice.flatten_lattice('IOTA')]"
   ]
  },
  {
   "cell_type": "code",
   "execution_count": 33,
   "id": "88cf17f4-6f06-48b2-89e9-4ca25c978525",
   "metadata": {},
   "outputs": [],
   "source": [
    "for ele in model_elegant.models.elements:\n",
    "    if ele.type == 'SBEN':\n",
    "        for i, madx_ele in enumerate(madx_iota):\n",
    "            if ele.name == madx_ele.name:\n",
    "                assert madx_iota[i - 1].type == 'DIPEDGE'\n",
    "                ele.fint = madx_iota[i - 1].fint \n",
    "                ele.hgap = madx_iota[i - 1].hgap"
   ]
  },
  {
   "cell_type": "markdown",
   "id": "b5c29560-4544-4d1e-b8fa-522bfb426593",
   "metadata": {},
   "source": [
    "### Write\n"
   ]
  },
  {
   "cell_type": "markdown",
   "id": "2be5a4fb-9971-4055-91a8-d4bde82a4a80",
   "metadata": {},
   "source": [
    "#### Lattice"
   ]
  },
  {
   "cell_type": "code",
   "execution_count": 34,
   "id": "0da3a596-836f-40f9-959c-de1af1d357ac",
   "metadata": {},
   "outputs": [
    {
     "data": {
      "text/plain": [
       "{'commands': local('/home/vagrant/jupyter/research/canvas/codes/iota/elegant/elegant.ele'),\n",
       " 'lattice': local('/home/vagrant/jupyter/research/canvas/codes/iota/elegant/Lattice'),\n",
       " 'output_files': ['run_setup.output.sdds',\n",
       "  'run_setup.sigma.sdds',\n",
       "  'twiss_output.filename.sdds']}"
      ]
     },
     "execution_count": 34,
     "metadata": {},
     "output_type": "execute_result"
    }
   ],
   "source": [
    "model_elegant.write_files('elegant')"
   ]
  },
  {
   "cell_type": "markdown",
   "id": "370d27b6-49ee-4fd6-84dc-4ac3888c9357",
   "metadata": {},
   "source": [
    "#### Distribution"
   ]
  },
  {
   "cell_type": "code",
   "execution_count": 35,
   "id": "11e5e4d5-e167-46a7-8caf-cf436073abf8",
   "metadata": {},
   "outputs": [
    {
     "name": "stdout",
     "output_type": "stream",
     "text": [
      "/usr/bin/sh: line 1: bunched_beam.bunch.sdds: command not found\n"
     ]
    }
   ],
   "source": [
    "! bunched_beam.bunch.sdds elegant/"
   ]
  },
  {
   "cell_type": "markdown",
   "id": "6e3655a8-da91-4e68-8ac4-d1df78d5a4ea",
   "metadata": {},
   "source": [
    "## ImpactX\n",
    "There is no Sirepo support for ImpactX right now and ImpactX has some MAD-X lattice support so we directly use the MAD-X lattice generated above.\n",
    "\n",
    "Some editing of the MAD-X lattice would be required to remove unsupported features and not all elements are included in the existing parser so a version of MAD-X with the Sirepo parser was used for running this simulation. See: https://github.com/cchall/impactx/tree/sirepo_madx_parser\n",
    "\n",
    "For organizational consistency a new run directory is created with a copy of the run script (it looks like the diagnostics do not yet have an option to set output directory)"
   ]
  },
  {
   "cell_type": "code",
   "execution_count": null,
   "id": "e0f65fb8-917a-4b4f-9c9c-ed721ed401e8",
   "metadata": {},
   "outputs": [],
   "source": [
    "# run in subdirectory \n",
    "! mkdir impactx; cp run_impactx.py impactx/run_impactx.py"
   ]
  },
  {
   "cell_type": "code",
   "execution_count": null,
   "id": "0886893f-65ee-4066-ba62-d202462353d1",
   "metadata": {},
   "outputs": [],
   "source": []
  }
 ],
 "metadata": {
  "kernelspec": {
   "display_name": "Python 3",
   "language": "python",
   "name": "py3"
  },
  "language_info": {
   "codemirror_mode": {
    "name": "ipython",
    "version": 3
   },
   "file_extension": ".py",
   "mimetype": "text/x-python",
   "name": "python",
   "nbconvert_exporter": "python",
   "pygments_lexer": "ipython3",
   "version": "3.9.15"
  }
 },
 "nbformat": 4,
 "nbformat_minor": 5
}
